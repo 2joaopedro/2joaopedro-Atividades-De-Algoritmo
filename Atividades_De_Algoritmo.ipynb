{
  "nbformat": 4,
  "nbformat_minor": 0,
  "metadata": {
    "colab": {
      "name": "Atividades-De-Algoritmo",
      "provenance": [],
      "collapsed_sections": [
        "knl01rIk1Xa5",
        "8MRvEnKuAV8A",
        "BlBh6LVxAcfO",
        "Jp4MG8SUnkpn",
        "MaHarQFHqDKb",
        "5ZSFq6evsmKq",
        "DfcTlE9ospb_",
        "YkscLcDTez-7",
        "HV_7_ltkszX6",
        "ypPG8nIrs1Fk"
      ],
      "authorship_tag": "ABX9TyPq8U2XOQLRSxmWPAtMOyLu",
      "include_colab_link": true
    },
    "kernelspec": {
      "name": "python3",
      "display_name": "Python 3"
    },
    "language_info": {
      "name": "python"
    }
  },
  "cells": [
    {
      "cell_type": "markdown",
      "metadata": {
        "id": "view-in-github",
        "colab_type": "text"
      },
      "source": [
        "<a href=\"https://colab.research.google.com/github/2joaopedro/2joaopedro-Atividades-De-Algoritmo/blob/main/Atividades_De_Algoritmo.ipynb\" target=\"_parent\"><img src=\"https://colab.research.google.com/assets/colab-badge.svg\" alt=\"Open In Colab\"/></a>"
      ]
    },
    {
      "cell_type": "markdown",
      "source": [
        "# **Exercicios 1** "
      ],
      "metadata": {
        "id": "knl01rIk1Xa5"
      }
    },
    {
      "cell_type": "code",
      "execution_count": null,
      "metadata": {
        "id": "BY-u0lEI1SId"
      },
      "outputs": [],
      "source": [
        "print(\"---------------------------------------------\")\n",
        "salarioFixo = float(input(\"Digite o seu salário: \"))\n",
        "print(\"---------------------------------------------\")\n",
        "comissao = (salarioFixo * 0.04) + salarioFixo\n",
        "\n",
        "print(f\"Sua comissão é: {comissao}\")\n",
        "print(\"---------------------------------------------\")\n"
      ]
    },
    {
      "cell_type": "markdown",
      "source": [
        "# **Exercicios 2**"
      ],
      "metadata": {
        "id": "8MRvEnKuAV8A"
      }
    },
    {
      "cell_type": "code",
      "source": [
        "print(\"---------------------------------------------\")\n",
        "valorReais = float(input(\"Digite o valor em R$: \"))\n",
        "print(\"---------------------------------------------\")\n",
        "cotacaoDolar = float(input(\"Digite a cotação em $: \"))\n",
        "print(\"---------------------------------------------\")\n",
        "\n",
        "conversaoDolar = valorReais / cotacaoDolar\n",
        "\n",
        "print(f\"A conveção para dolar é: {round(conversaoDolar,2)} \")"
      ],
      "metadata": {
        "id": "Px3x9fOk_khg"
      },
      "execution_count": null,
      "outputs": []
    },
    {
      "cell_type": "markdown",
      "source": [
        "# **Exercicios 3**"
      ],
      "metadata": {
        "id": "BlBh6LVxAcfO"
      }
    },
    {
      "cell_type": "code",
      "source": [
        "print(\"---------------------------------------------\")\n",
        "sexoPessoa = input(\"Digite o seu sexo: \")\n",
        "print(\"---------------------------------------------\")\n",
        "\n",
        "if(sexoPessoa == \"Homem\"):\n",
        "    altura = float(input(\"Digite a sua altura: \"))\n",
        "    print(\"---------------------------------------------\")\n",
        "    peso = float(input(\"Digite o seu peso: \"))\n",
        "    pesoIdealH = (altura * peso) - 58\n",
        "    print(f\"Seu peso ideal é: {pesoIdealH}\")\n",
        "else:\n",
        "    altura = float(input(\"Digite a sua altura: \"))\n",
        "    peso = float(input(\"Digite o seu peso: \"))\n",
        "    pesoIdealM = (altura * peso) - 44.7\n",
        "    print(f\"Seu peso ideal é: {pesoIdealM}\")"
      ],
      "metadata": {
        "id": "HgDXvL7fAd5C"
      },
      "execution_count": null,
      "outputs": []
    },
    {
      "cell_type": "markdown",
      "source": [
        "# **Exercicios 4** "
      ],
      "metadata": {
        "id": "Jp4MG8SUnkpn"
      }
    },
    {
      "cell_type": "code",
      "source": [
        "print(\"----------------------------------------\")\n",
        "idadeNadador = int(input(\"Digite a sua idade: \"))\n",
        "print(\"----------------------------------------\")\n",
        "\n",
        "if(idadeNadador <= 8):\n",
        "  print(\"Você é da categoria infantil A\")\n",
        "elif(idadeNadador < 13):\n",
        "  print(\"Você é da categoria infantil B\")\n",
        "elif(idadeNadador < 18):\n",
        "  print(\"Você é da categoria Juvenil A\")\n",
        "elif(idadeNadador < 21):\n",
        "  print(\"Você é da categoria Juvenil B\")\n",
        "else:\n",
        "   print(\"Você é da categoria Sênior\")"
      ],
      "metadata": {
        "id": "UnCEfOxYnm0L"
      },
      "execution_count": null,
      "outputs": []
    },
    {
      "cell_type": "markdown",
      "source": [
        "# **Exercicios 5** "
      ],
      "metadata": {
        "id": "MaHarQFHqDKb"
      }
    },
    {
      "cell_type": "code",
      "source": [
        "print(\"---------------------------------------------------\")\n",
        "valorCompra = float(input(\"Digite o valor da sua compra: \"))\n",
        "print(\"---------------------------------------------------\")\n",
        "\n",
        "if(valorCompra >= 500.00):\n",
        "  desconto = (valorCompra * 0.25)\n",
        "elif(valorCompra >= 200.00):\n",
        "  desconto = (valorCompra * 0.20)\n",
        "else:\n",
        "  desconto = (valorCompra * 0.15)\n",
        "\n",
        "pagar = (valorCompra - desconto)\n",
        "print(f\"O valor da sua compra foi de : {valorCompra}\") \n",
        "print(\"-------------------------------------------------\")\n",
        "print(f\"Seu desconto foi de: {desconto}\")\n",
        "print(\"-------------------------------------------------\")\n",
        "print(f\"Total a pagar é de : {pagar}\")\n",
        "print(\"-------------------------------------------------\")"
      ],
      "metadata": {
        "id": "splP-juuqHgx"
      },
      "execution_count": null,
      "outputs": []
    },
    {
      "cell_type": "markdown",
      "source": [
        "# **Exercicios 6** "
      ],
      "metadata": {
        "id": "5ZSFq6evsmKq"
      }
    },
    {
      "cell_type": "code",
      "source": [
        "print(\"----------------------------------------\")\n",
        "pesoPessoa = float(input(\"Digite o seu peso: \"))\n",
        "print(\"----------------------------------------\")\n",
        "alturaPessoa = float(input(\"Digite a sua altura: \"))\n",
        "\n",
        "\n",
        "\n",
        "IMC = (pesoPessoa / alturaPessoa * alturaPessoa) \n",
        "\n",
        "if(IMC <18):\n",
        "  print(\"Abaixo do peso\")\n",
        "  print(\"----------------------------------------\")\n",
        "elif(IMC > 25 and IMC < 25 ):\n",
        "    print(\"Normal\")\n",
        "    print(\"----------------------------------------\")\n",
        "elif(IMC > 25 and IMC < 30):\n",
        "    print(\"Acima do peso\")\n",
        "    print(\"----------------------------------------\")\n",
        "else:\n",
        "    print(\"Obeso(a)\")\n",
        "    print(\"----------------------------------------\")"
      ],
      "metadata": {
        "id": "rwgAbtKosn5G"
      },
      "execution_count": null,
      "outputs": []
    },
    {
      "cell_type": "markdown",
      "source": [
        "# **Exercicios 7** "
      ],
      "metadata": {
        "id": "DfcTlE9ospb_"
      }
    },
    {
      "cell_type": "code",
      "source": [
        "print(\"---------------------------------------------\")\n",
        "medidaA = float(input(\"Digite uma medida para o valor de A: \"))\n",
        "print(\"---------------------------------------------\")\n",
        "medidaB = float(input(\"Digite uma medida para o valor de B: \"))\n",
        "print(\"---------------------------------------------\")\n",
        "medidaC = float(input(\"Digite uma medida para o valor de C: \"))\n",
        "print(\"---------------------------------------------\")\n",
        "\n",
        "if(medidaA == medidaB and medidaB == medidaC):\n",
        "  print(\"É um triângulo equilátero\")\n",
        "  print(\"---------------------------------------------\")\n",
        "elif(medidaA != medidaB and medidaB != medidaC):\n",
        "  print(\"É um triângulo escaleno\")\n",
        "  print(\"---------------------------------------------\")\n",
        "else:\n",
        "  print(\"É um triângulo isóceles\")\n",
        "  print(\"---------------------------------------------\")\n"
      ],
      "metadata": {
        "id": "QiILNW9Asq57"
      },
      "execution_count": null,
      "outputs": []
    },
    {
      "cell_type": "markdown",
      "source": [
        "# **Exercicios 8** "
      ],
      "metadata": {
        "id": "YkscLcDTez-7"
      }
    },
    {
      "cell_type": "code",
      "source": [
        "ano = int(input())\n",
        "# A porcentagem é o resto da divisão\n",
        "if(ano%4 == 0 and ano%100 != 0):\n",
        "  print(\"É bissexto\")\n",
        "else:\n",
        "   print(\"resto\")"
      ],
      "metadata": {
        "id": "EfbNgUC1e1xm"
      },
      "execution_count": null,
      "outputs": []
    },
    {
      "cell_type": "markdown",
      "source": [
        "# **Exercicios 9** "
      ],
      "metadata": {
        "id": "HV_7_ltkszX6"
      }
    },
    {
      "cell_type": "code",
      "source": [
        "medida = int(input(\"Define uma medida para o ângulo: \"))\n",
        "\n",
        "quadrante = 0\n",
        "\n",
        "if(medida > 360):\n",
        "  medida = medida%360\n",
        "\n",
        "if(medida  <=90):\n",
        "  quadrante = 1\n",
        "elif(medida  > 90 and medida <=180):\n",
        "  quadrante = 2\n",
        "elif(medida  >180 and medida  <=270):\n",
        "  quadrante = 3\n",
        "elif(medida  > 270 and medida  <=360):\n",
        "  quadrante = 4\n",
        "\n",
        "print(f\"É o quadrante: {quadrante}\")"
      ],
      "metadata": {
        "id": "9qZcr_sus0f7"
      },
      "execution_count": null,
      "outputs": []
    },
    {
      "cell_type": "markdown",
      "source": [
        "# **Exercicios 10** "
      ],
      "metadata": {
        "id": "ypPG8nIrs1Fk"
      }
    },
    {
      "cell_type": "code",
      "source": [
        "A = int(input(\"Define o um valor pro A: \"))\n",
        "B = int(input(\"Define o um valor pro B: \"))\n",
        "C = int(input(\"Define o um valor pro C: \"))\n",
        "\n",
        "if(A < B and B > C and C > A):\n",
        "  aux = B\n",
        "  B = C\n",
        "  C = aux \n",
        "elif(A > B and B < C and C > A):\n",
        "  aux = A\n",
        "  A = B\n",
        "  B = aux\n",
        "elif(A < B and B > C and C < A):\n",
        "  aux = C\n",
        "  C = B\n",
        "  B = A\n",
        "  A = aux\n",
        "elif(A > B and B > C and C < A):\n",
        "  aux = A\n",
        "  A = C\n",
        "  C = aux\n",
        "elif(A > B and B < C and C < A):\n",
        "  aux = B\n",
        "  B = C\n",
        "  C = A\n",
        "  A = aux\n",
        "print(A,B,C)\n"
      ],
      "metadata": {
        "id": "gacgaOV3s2U-"
      },
      "execution_count": null,
      "outputs": []
    },
    {
      "cell_type": "markdown",
      "source": [
        "# **Exercicios 11** "
      ],
      "metadata": {
        "id": "4XYT2oRrfrRy"
      }
    },
    {
      "cell_type": "code",
      "source": [
        ""
      ],
      "metadata": {
        "id": "PehJTH8Fftm5"
      },
      "execution_count": null,
      "outputs": []
    }
  ]
}